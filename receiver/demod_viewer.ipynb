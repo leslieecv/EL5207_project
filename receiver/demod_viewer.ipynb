{
 "cells": [
  {
   "cell_type": "code",
   "execution_count": 87,
   "metadata": {},
   "outputs": [],
   "source": [
    "from demodulation import *\n",
    "#\n",
    "import decoding as decode\n",
    "import scipy\n",
    "import numpy as np\n",
    "import sounddevice as sd\n",
    "from scipy.io.wavfile import write, read\n",
    "from scipy.signal import correlate\n",
    "import matplotlib.pyplot as plt\n",
    "from scipy import signal\n",
    "from scipy.fft import fftshift\n",
    "from sklearn.preprocessing import minmax_scale\n",
    "import os\n",
    "import math"
   ]
  },
  {
   "cell_type": "code",
   "execution_count": null,
   "metadata": {},
   "outputs": [],
   "source": [
    "SYNC_FREQ = [[384, 894], [5298, 5792]]"
   ]
  },
  {
   "cell_type": "markdown",
   "metadata": {},
   "source": [
    "### Record or read"
   ]
  },
  {
   "cell_type": "code",
   "execution_count": 86,
   "metadata": {},
   "outputs": [
    {
     "name": "stdout",
     "output_type": "stream",
     "text": [
      "4343456\n"
     ]
    },
    {
     "data": {
      "image/png": "[encoded data removed]",
      "text/plain": [
       "<Figure size 432x288 with 1 Axes>"
      ]
     },
     "metadata": {
      "needs_background": "light"
     },
     "output_type": "display_data"
    }
   ],
   "source": [
    "filename = os.path.join('D:\\GitHub\\EL5207_project\\mod_img_sync.wav')\n",
    "# listen\n",
    "# record(2, SAMPLE_FREQ, filename) \n",
    "# read\n",
    "fs, audio = read(filename)\n",
    "print(len(audio)) \n",
    "wave0 = filter_freq(audio, SYNC_FREQ[0][0], 100, SAMPLE_FREQ)\n",
    "wave1 = filter_freq(audio, SYNC_FREQ[0][1], 100, SAMPLE_FREQ)\n",
    "wave_sum = wave0 + wave1\n",
    "spectrum, freqs, t, im = plt.specgram(wave_sum[0:15000], Fs = SAMPLE_FREQ, scale = 'linear')\n",
    "plt.show()"
   ]
  },
  {
   "cell_type": "code",
   "execution_count": 96,
   "metadata": {},
   "outputs": [],
   "source": [
    "# build the start and end signal\n",
    "def bfsk_modulate(bit_array, space_freq, mark_freq, baud, sample_rate):\n",
    "    seconds_per_bit = 1 / baud\n",
    "    samples_per_bit = int(sample_rate * seconds_per_bit)\n",
    "    t = np.linspace(0, seconds_per_bit, samples_per_bit)\n",
    "    space = np.sin(space_freq * 2 * np.pi * t)\n",
    "    mark = np.sin(mark_freq * 2 * np.pi * t)\n",
    "    signal = np.array([])\n",
    "    for bit in bit_array:\n",
    "        if bit == 0:\n",
    "            signal = np.append(signal, space)\n",
    "        elif bit == 1:\n",
    "            signal = np.append(signal, mark)\n",
    "    return signal\n",
    "\n",
    "ref = bfsk_modulate([1,1,0,0], 348, 894, 16, 44100)"
   ]
  },
  {
   "cell_type": "code",
   "execution_count": 97,
   "metadata": {},
   "outputs": [],
   "source": [
    "corr=[]\n",
    "for i in range(math.floor((len(wave_sum))/len(ref))):\n",
    "    y_w = wave_sum[i* len(ref):(i+1) * len(ref)]\n",
    "    cor = correlate(ref, y_w, mode='full', method='fft')\n",
    "    corr.append(sum(cor**2))"
   ]
  },
  {
   "cell_type": "code",
   "execution_count": 95,
   "metadata": {},
   "outputs": [
    {
     "data": {
      "text/plain": [
       "394"
      ]
     },
     "execution_count": 95,
     "metadata": {},
     "output_type": "execute_result"
    }
   ],
   "source": [
    "len(corr)"
   ]
  },
  {
   "cell_type": "code",
   "execution_count": 94,
   "metadata": {},
   "outputs": [
    {
     "data": {
      "text/plain": [
       "(array([393], dtype=int64),)"
      ]
     },
     "execution_count": 94,
     "metadata": {},
     "output_type": "execute_result"
    }
   ],
   "source": [
    "np.where( corr[::-1] == np.max(corr))"
   ]
  },
  {
   "cell_type": "code",
   "execution_count": 4,
   "metadata": {},
   "outputs": [
    {
     "name": "stdout",
     "output_type": "stream",
     "text": [
      "1574\n",
      "2756\n",
      "001\n",
      "0 111\n",
      "011\n",
      "111\n",
      "2 111\n",
      "4337944\n",
      "1574 1574 1574\n"
     ]
    },
    {
     "ename": "AssertionError",
     "evalue": "Error: data must be multiple of 8",
     "output_type": "error",
     "traceback": [
      "\u001b[1;31m---------------------------------------------------------------------------\u001b[0m",
      "\u001b[1;31mAssertionError\u001b[0m                            Traceback (most recent call last)",
      "\u001b[1;32md:\\GitHub\\EL5207_project\\receiver\\demod_viewer.ipynb Cell 5\u001b[0m line \u001b[0;36m3\n\u001b[0;32m     <a href='vscode-notebook-cell:/d%3A/GitHub/EL5207_project/receiver/demod_viewer.ipynb#X10sZmlsZQ%3D%3D?line=30'>31</a>\u001b[0m \u001b[39mprint\u001b[39m(\u001b[39mlen\u001b[39m(r_bin), \u001b[39mlen\u001b[39m(g_bin), \u001b[39mlen\u001b[39m(b_bin))\n\u001b[0;32m     <a href='vscode-notebook-cell:/d%3A/GitHub/EL5207_project/receiver/demod_viewer.ipynb#X10sZmlsZQ%3D%3D?line=31'>32</a>\u001b[0m colorlist \u001b[39m=\u001b[39m [r_bin, g_bin, b_bin]\n\u001b[1;32m---> <a href='vscode-notebook-cell:/d%3A/GitHub/EL5207_project/receiver/demod_viewer.ipynb#X10sZmlsZQ%3D%3D?line=32'>33</a>\u001b[0m decod \u001b[39m=\u001b[39m decode\u001b[39m.\u001b[39mDecoding(colorlist, mode\u001b[39m=\u001b[39m\u001b[39m'\u001b[39m\u001b[39mimage\u001b[39m\u001b[39m'\u001b[39m)\n\u001b[0;32m     <a href='vscode-notebook-cell:/d%3A/GitHub/EL5207_project/receiver/demod_viewer.ipynb#X10sZmlsZQ%3D%3D?line=33'>34</a>\u001b[0m decod_ch \u001b[39m=\u001b[39m decod\u001b[39m.\u001b[39mdecod_data\n\u001b[0;32m     <a href='vscode-notebook-cell:/d%3A/GitHub/EL5207_project/receiver/demod_viewer.ipynb#X10sZmlsZQ%3D%3D?line=34'>35</a>\u001b[0m plt\u001b[39m.\u001b[39mimshow(decod_ch, cmap\u001b[39m=\u001b[39m\u001b[39m'\u001b[39m\u001b[39mgray\u001b[39m\u001b[39m'\u001b[39m)\n",
      "File \u001b[1;32md:\\GitHub\\EL5207_project\\receiver\\decoding.py:17\u001b[0m, in \u001b[0;36mDecoding.__init__\u001b[1;34m(self, src, mode)\u001b[0m\n\u001b[0;32m     15\u001b[0m \u001b[39mself\u001b[39m\u001b[39m.\u001b[39mdecod_data \u001b[39m=\u001b[39m []\n\u001b[0;32m     16\u001b[0m \u001b[39mfor\u001b[39;00m bin_ch \u001b[39min\u001b[39;00m src:\n\u001b[1;32m---> 17\u001b[0m     bin_vec \u001b[39m=\u001b[39m \u001b[39mself\u001b[39m\u001b[39m.\u001b[39msplit_bin(bin_ch)                \n\u001b[0;32m     18\u001b[0m     decod_ch \u001b[39m=\u001b[39m \u001b[39mself\u001b[39m\u001b[39m.\u001b[39mbin_to_ch(bin_vec)\n\u001b[0;32m     19\u001b[0m     \u001b[39mself\u001b[39m\u001b[39m.\u001b[39mdecod_data\u001b[39m.\u001b[39mappend(decod_ch)\n",
      "File \u001b[1;32md:\\GitHub\\EL5207_project\\receiver\\decoding.py:23\u001b[0m, in \u001b[0;36mDecoding.split_bin\u001b[1;34m(self, bin_ch)\u001b[0m\n\u001b[0;32m     22\u001b[0m \u001b[39mdef\u001b[39;00m \u001b[39msplit_bin\u001b[39m(\u001b[39mself\u001b[39m, bin_ch):\n\u001b[1;32m---> 23\u001b[0m     \u001b[39massert\u001b[39;00m \u001b[39mlen\u001b[39m(bin_ch) \u001b[39m%\u001b[39m \u001b[39m8\u001b[39m \u001b[39m==\u001b[39m \u001b[39m0\u001b[39m, \u001b[39m\"\u001b[39m\u001b[39mError: data must be multiple of 8\u001b[39m\u001b[39m\"\u001b[39m\n\u001b[0;32m     24\u001b[0m     \u001b[39mreturn\u001b[39;00m [bin_ch[i:i\u001b[39m+\u001b[39m\u001b[39m8\u001b[39m] \u001b[39mfor\u001b[39;00m i \u001b[39min\u001b[39;00m \u001b[39mrange\u001b[39m(\u001b[39m0\u001b[39m, \u001b[39mlen\u001b[39m(bin_ch), \u001b[39m8\u001b[39m)]\n",
      "\u001b[1;31mAssertionError\u001b[0m: Error: data must be multiple of 8"
     ]
    }
   ],
   "source": [
    "freqs = FREQUENCIES[0]\n",
    "wave = sync_detect(audio, SYNC_FREQ[0])\n",
    "wave = audio\n",
    "print(len(wave))\n",
    "# Text\n",
    "# text_wave0 = filter_freq(audio, freqs[0][0], 20, fs)\n",
    "# text_wave1 = filter_freq(audio, freqs[0][1], 20, fs)\n",
    "# wave_sum = text_wave0 + text_wave1\n",
    "# text_bin = fsk_demodulate(wave_sum, freqs[0][0], freqs[0][1], BAUD, fs)\n",
    "# decod = decode.Decoding(text_bin, mode='text')\n",
    "# decod_ch = decod.decod_data\n",
    "# print(decod_ch)\n",
    "# Image\n",
    "# Red channel\n",
    "r_wave0 = filter_freq(wave, freqs[1][0], 20, fs)\n",
    "r_wave1 = filter_freq(wave, freqs[1][1], 20, fs)\n",
    "r_sum = r_wave0 + r_wave1\n",
    "r_bin = fsk_demodulate(r_sum, freqs[1][0], freqs[1][1], BAUD, fs)\n",
    "# print(r_bin)\n",
    "# Green channel\n",
    "g_wave0 = filter_freq(wave, freqs[2][0], 20, fs)\n",
    "g_wave1 = filter_freq(wave, freqs[2][1], 20, fs)\n",
    "g_sum = g_wave0 + g_wave1\n",
    "g_bin = fsk_demodulate(g_sum, freqs[2][0], freqs[2][1], BAUD, fs)\n",
    "# Blue channel\n",
    "b_wave0 = filter_freq(wave, freqs[3][0], 20, fs)\n",
    "b_wave1 = filter_freq(wave, freqs[3][1], 20, fs)\n",
    "b_sum = b_wave0 + b_wave1\n",
    "b_bin = fsk_demodulate(b_sum, freqs[3][0], freqs[3][1], BAUD, fs)\n",
    "# Image Assembly c:\n",
    "print(len(r_bin), len(g_bin), len(b_bin))\n",
    "colorlist = [r_bin, g_bin, b_bin]\n",
    "decod = decode.Decoding(colorlist, mode='image')\n",
    "decod_ch = decod.decod_data\n",
    "plt.imshow(decod_ch, cmap='gray')\n",
    "plt.show()"
   ]
  },
  {
   "cell_type": "code",
   "execution_count": null,
   "metadata": {},
   "outputs": [
    {
     "ename": "TypeError",
     "evalue": "unsupported operand type(s) for -: 'list' and 'int'",
     "output_type": "error",
     "traceback": [
      "\u001b[1;31m---------------------------------------------------------------------------\u001b[0m",
      "\u001b[1;31mTypeError\u001b[0m                                 Traceback (most recent call last)",
      "\u001b[1;32md:\\GitHub\\EL5207_project\\receiver\\demod_viewer.ipynb Cell 4\u001b[0m line \u001b[0;36m3\n\u001b[0;32m      <a href='vscode-notebook-cell:/d%3A/GitHub/EL5207_project/receiver/demod_viewer.ipynb#W2sZmlsZQ%3D%3D?line=0'>1</a>\u001b[0m \u001b[39mfor\u001b[39;00m i \u001b[39min\u001b[39;00m \u001b[39mrange\u001b[39m(\u001b[39mlen\u001b[39m(FREQUENCIES)): \u001b[39m# Both transmitters\u001b[39;00m\n\u001b[0;32m      <a href='vscode-notebook-cell:/d%3A/GitHub/EL5207_project/receiver/demod_viewer.ipynb#W2sZmlsZQ%3D%3D?line=1'>2</a>\u001b[0m     freqs \u001b[39m=\u001b[39m FREQUENCIES[i]\n\u001b[1;32m----> <a href='vscode-notebook-cell:/d%3A/GitHub/EL5207_project/receiver/demod_viewer.ipynb#W2sZmlsZQ%3D%3D?line=2'>3</a>\u001b[0m     wave \u001b[39m=\u001b[39m sync_detect(audio, SYNC_FREQ[i])\n\u001b[0;32m      <a href='vscode-notebook-cell:/d%3A/GitHub/EL5207_project/receiver/demod_viewer.ipynb#W2sZmlsZQ%3D%3D?line=3'>4</a>\u001b[0m     wave \u001b[39m=\u001b[39m audio\n\u001b[0;32m      <a href='vscode-notebook-cell:/d%3A/GitHub/EL5207_project/receiver/demod_viewer.ipynb#W2sZmlsZQ%3D%3D?line=4'>5</a>\u001b[0m     \u001b[39mprint\u001b[39m(\u001b[39mlen\u001b[39m(wave))\n",
      "File \u001b[1;32md:\\GitHub\\EL5207_project\\receiver\\demodulation.py:82\u001b[0m, in \u001b[0;36msync_detect\u001b[1;34m(audio, sync_freq)\u001b[0m\n\u001b[0;32m     80\u001b[0m amount \u001b[39m=\u001b[39m ((\u001b[39m3\u001b[39m \u001b[39m*\u001b[39m SAMPLE_FREQ)\u001b[39m/\u001b[39mBAUD)\n\u001b[0;32m     81\u001b[0m \u001b[39m# Filter in the frequency\u001b[39;00m\n\u001b[1;32m---> 82\u001b[0m filtered \u001b[39m=\u001b[39m filter_freq(audio, sync_freq, \u001b[39m20\u001b[39m, SAMPLE_FREQ)\n\u001b[0;32m     83\u001b[0m \u001b[39m# From this we get the peaks\u001b[39;00m\n\u001b[0;32m     84\u001b[0m start \u001b[39m=\u001b[39m \u001b[39m0\u001b[39m\n",
      "File \u001b[1;32md:\\GitHub\\EL5207_project\\receiver\\demodulation.py:45\u001b[0m, in \u001b[0;36mfilter_freq\u001b[1;34m(signal, freq, window, fs, order)\u001b[0m\n\u001b[0;32m     44\u001b[0m \u001b[39mdef\u001b[39;00m \u001b[39mfilter_freq\u001b[39m(signal, freq, window, fs \u001b[39m=\u001b[39m SAMPLE_FREQ, order \u001b[39m=\u001b[39m \u001b[39m5\u001b[39m):\n\u001b[1;32m---> 45\u001b[0m     \u001b[39mfilter\u001b[39m \u001b[39m=\u001b[39m scipy\u001b[39m.\u001b[39msignal\u001b[39m.\u001b[39mbutter(order, [freq \u001b[39m-\u001b[39m window, freq \u001b[39m+\u001b[39m window], \u001b[39m\"\u001b[39m\u001b[39mbandpass\u001b[39m\u001b[39m\"\u001b[39m, fs \u001b[39m=\u001b[39m fs, output \u001b[39m=\u001b[39m \u001b[39m\"\u001b[39m\u001b[39msos\u001b[39m\u001b[39m\"\u001b[39m)\n\u001b[0;32m     46\u001b[0m     filtered \u001b[39m=\u001b[39m scipy\u001b[39m.\u001b[39msignal\u001b[39m.\u001b[39msosfiltfilt(\u001b[39mfilter\u001b[39m, signal)\n\u001b[0;32m     47\u001b[0m     \u001b[39mreturn\u001b[39;00m filtered\n",
      "\u001b[1;31mTypeError\u001b[0m: unsupported operand type(s) for -: 'list' and 'int'"
     ]
    }
   ],
   "source": [
    "\n",
    "for i in range(len(FREQUENCIES)): # Both transmitters\n",
    "    freqs = FREQUENCIES[i]\n",
    "    wave = sync_detect(audio, SYNC_FREQ[i])\n",
    "    wave = audio\n",
    "    print(len(wave))\n",
    "    # Text\n",
    "    text_wave0 = filter_freq(audio, freqs[0][0], 20, fs)\n",
    "    text_wave1 = filter_freq(audio, freqs[0][1], 20, fs)\n",
    "    wave_sum = text_wave0 + text_wave1\n",
    "    text_bin = fsk_demodulate(wave_sum, freqs[0][0], freqs[0][1], BAUD, fs)\n",
    "    decod = decode.Decoding(text_bin, mode='text')\n",
    "    decod_ch = decod.decod_data\n",
    "    print(decod_ch)\n",
    "    # Image\n",
    "    # Red channel\n",
    "    r_wave0 = filter_freq(wave, freqs[1][0], 20, fs)\n",
    "    r_wave1 = filter_freq(wave, freqs[1][1], 20, fs)\n",
    "    r_sum = r_wave0 + r_wave1\n",
    "    r_bin = fsk_demodulate(r_sum, freqs[1][0], freqs[1][1], BAUD, fs)\n",
    "    # print(r_bin)\n",
    "    # Green channel\n",
    "    g_wave0 = filter_freq(wave, freqs[2][0], 20, fs)\n",
    "    g_wave1 = filter_freq(wave, freqs[2][1], 20, fs)\n",
    "    g_sum = g_wave0 + g_wave1\n",
    "    g_bin = fsk_demodulate(g_sum, freqs[2][0], freqs[2][1], BAUD, fs)\n",
    "    # Blue channel\n",
    "    b_wave0 = filter_freq(wave, freqs[3][0], 20, fs)\n",
    "    b_wave1 = filter_freq(wave, freqs[3][1], 20, fs)\n",
    "    b_sum = b_wave0 + b_wave1\n",
    "    b_bin = fsk_demodulate(b_sum, freqs[3][0], freqs[3][1], BAUD, fs)\n",
    "    # Image Assembly c:\n",
    "    print(len(r_bin), len(g_bin), len(b_bin))\n",
    "    colorlist = [r_bin, g_bin, b_bin]\n",
    "    decod = decode.Decoding(colorlist, mode='image')\n",
    "    decod_ch = decod.decod_data\n",
    "    plt.imshow(decod_ch, cmap='gray')\n",
    "    plt.show()"
   ]
  }
 ],
 "metadata": {
  "kernelspec": {
   "display_name": "neuron",
   "language": "python",
   "name": "python3"
  },
  "language_info": {
   "codemirror_mode": {
    "name": "ipython",
    "version": 3
   },
   "file_extension": ".py",
   "mimetype": "text/x-python",
   "name": "python",
   "nbconvert_exporter": "python",
   "pygments_lexer": "ipython3",
   "version": "3.11.4"
  }
 },
 "nbformat": 4,
 "nbformat_minor": 2
}
