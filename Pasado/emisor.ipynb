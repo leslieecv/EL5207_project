{
 "cells": [
  {
   "cell_type": "code",
   "execution_count": 8,
   "metadata": {},
   "outputs": [],
   "source": [
    "from heapq import heappop, heappush\n",
    "import matplotlib.pyplot as plt\n",
    "import cv2\n",
    "import numpy as np\n",
    "from numpy import cos, pi\n",
    "import soundfile as sf"
   ]
  },
  {
   "cell_type": "code",
   "execution_count": 2,
   "metadata": {},
   "outputs": [],
   "source": [
    "# Código modificado desde: https://www.techiedelight.com/es/huffman-coding/\n",
    "\n",
    "def isLeaf(root):\n",
    "    return root.left is None and root.right is None\n",
    "\n",
    "class Node:\n",
    "    def __init__(self, ch, freq, left=None, right=None):\n",
    "        self.ch = ch\n",
    "        self.freq = freq\n",
    "        self.left = left\n",
    "        self.right = right\n",
    "    # Anule la función `__lt__()` para hacer que la clase `Node` funcione con la cola de prioridad\n",
    "    # tal que el elemento de mayor prioridad tiene la frecuencia más baja\n",
    "    def __lt__(self, other):\n",
    "        return self.freq < other.freq\n",
    " \n",
    " \n",
    "# Atraviesa el árbol de Huffman y almacena los códigos de Huffman en un diccionario\n",
    "def encode(root, s, huffman_code):\n",
    "    if root is None:\n",
    "        return\n",
    "    if isLeaf(root):\n",
    "        huffman_code[root.ch] = s if len(s) > 0 else 1\n",
    "    encode(root.left, s + [0], huffman_code)\n",
    "    encode(root.right, s + [1], huffman_code)\n",
    " \n",
    " \n",
    "# Atraviesa el árbol de Huffman y decodifica la string codificada\n",
    "def decode(root, index, s):\n",
    "    if root is None:\n",
    "        return index\n",
    "    if isLeaf(root):\n",
    "        print(root.ch, end=[])\n",
    "        return index\n",
    "    index = index + 1\n",
    "    root = root.left if s[index] == [0] else root.right\n",
    "    return decode(root, index, s)\n",
    " \n",
    " \n",
    "# Construye Huffman Tree y decodifica el texto de entrada dado\n",
    "def buildHuffmanTree(text, prt=0):\n",
    "    if len(text) == 0:\n",
    "        return\n",
    "\n",
    "    freq = {i: text.count(i) for i in set(text)}\n",
    "    pq = [Node(k, v) for k, v in freq.items()]\n",
    "    heapq.heapify(pq)\n",
    " \n",
    "    while len(pq) != 1:\n",
    "        left = heappop(pq)\n",
    "        right = heappop(pq)\n",
    "        total = left.freq + right.freq\n",
    "        heappush(pq, Node(None, total, left, right))\n",
    "\n",
    "    root = pq[0]\n",
    "    huffmanCode = {}\n",
    "    encode(root, [], huffmanCode)\n",
    "\n",
    "    if prt:\n",
    "        print('Huffman Codes are:', huffmanCode)\n",
    "        print('The original string is:', text)\n",
    "        s = []\n",
    "        for c in text:\n",
    "            s += huffmanCode.get(c)\n",
    "        print('The encoded string is:', s)\n",
    "        print('The decoded string is:', end=' ')\n",
    "        if isLeaf(root):\n",
    "            while root.freq > 0:\n",
    "                print(root.ch, end='')\n",
    "                root.freq = root.freq - 1\n",
    "        else:\n",
    "            index = -1\n",
    "            while index < len(s) - 1:\n",
    "                index = decode(root, index, s)            \n",
    "    return huffmanCode"
   ]
  },
  {
   "cell_type": "code",
   "execution_count": 3,
   "metadata": {},
   "outputs": [],
   "source": [
    "def codificar(data, dic):\n",
    "    s = []\n",
    "    for c in data:\n",
    "        s += dic.get(c)\n",
    "    return s"
   ]
  },
  {
   "cell_type": "code",
   "execution_count": 4,
   "metadata": {},
   "outputs": [],
   "source": [
    "def gen_01(data):\n",
    "    if not isinstance(data, str):\n",
    "        data = np.reshape(data, [1, -1])[0].tolist()\n",
    "    dic = buildHuffmanTree(data)\n",
    "    print(f'El diccionario tiene {len(dic)} elementos')\n",
    "    arr = codificar(data, dic)\n",
    "    print(f'La codificación de la data tiene {len(arr)} elementos')\n",
    "    dic = list(dic.items())\n",
    "    return arr, dic"
   ]
  },
  {
   "cell_type": "code",
   "execution_count": 5,
   "metadata": {},
   "outputs": [],
   "source": [
    "def contrastComp(ch, a):\n",
    "    new_ch = np.zeros(np.shape(ch), dtype=int)\n",
    "    min= ch.min()\n",
    "    max = ch.max()\n",
    "    print('Para el receptor:',min, max)\n",
    "    for i in range(ch.shape[0]):\n",
    "        for j in range(ch.shape[1]):\n",
    "            new_ch[i,j] = int(a*(ch[i,j]-min)/(max-min))\n",
    "    return new_ch"
   ]
  },
  {
   "cell_type": "code",
   "execution_count": 11,
   "metadata": {},
   "outputs": [],
   "source": [
    "def huff(contrast=False):\n",
    "    I = cv2.imread(\"img_house.jpeg\")\n",
    "    cv2.imwrite('rgb_emisor.png', I)\n",
    "    I = cv2.cvtColor(I, cv2.COLOR_RGB2YUV)\n",
    "    Im = np.asarray(I)\n",
    "    text = '¡Proyecto Numero 2, Principios de Comunicaciones Otoño 2022 EL4112! Modulación digital M-FSK'\n",
    "    ch1, ch2, ch3 = cv2.split(Im)\n",
    "    a = [150, 40, 35]\n",
    "    if contrast:\n",
    "        ch1 = contrastComp(ch1, a[0])\n",
    "        ch2 = contrastComp(ch2, a[1])\n",
    "        ch3 = contrastComp(ch3, a[2])\n",
    "    cv2.imwrite('yuv_emisor.png', Im)\n",
    "    data_cht = gen_01(text)\n",
    "    data_ch1 = gen_01(ch1)\n",
    "    data_ch2 = gen_01(ch2)\n",
    "    data_ch3 = gen_01(ch3)\n",
    "    path='C://Users//lesli//My Drive//La U//8vo semestre//EL4112 - Principios de Comunicación//Proyecto 2//'\n",
    "    np.save(path+'dic_cht.npy', data_cht[1])\n",
    "    np.save(path+'dic_ch1.npy', data_ch1[1])\n",
    "    np.save(path+'dic_ch2.npy', data_ch2[1])\n",
    "    np.save(path+'dic_ch3.npy', data_ch3[1])\n",
    "    np.save(path+'data_cht.npy', data_cht[0])\n",
    "    np.save(path+'data_ch1.npy', data_ch1[0])\n",
    "    np.save(path+'data_ch2.npy', data_ch2[0])\n",
    "    np.save(path+'data_ch3.npy', data_ch3[0])\n",
    "    return data_cht[0], data_ch1[0], data_ch2[0], data_ch3[0]"
   ]
  },
  {
   "cell_type": "code",
   "execution_count": 12,
   "metadata": {},
   "outputs": [
    {
     "name": "stdout",
     "output_type": "stream",
     "text": [
      "Para el receptor: 10 251\n",
      "Para el receptor: 99 167\n",
      "Para el receptor: 104 188\n",
      "El diccionario tiene 37 elementos\n",
      "La codificación de la data tiene 439 elementos\n",
      "El diccionario tiene 148 elementos\n",
      "La codificación de la data tiene 285462 elementos\n",
      "El diccionario tiene 41 elementos\n",
      "La codificación de la data tiene 233826 elementos\n",
      "El diccionario tiene 32 elementos\n",
      "La codificación de la data tiene 203653 elementos\n"
     ]
    }
   ],
   "source": [
    "data = huff(True)"
   ]
  },
  {
   "cell_type": "code",
   "execution_count": 8,
   "metadata": {},
   "outputs": [],
   "source": [
    "# longitud de cada codificacion de canal\n",
    "largos = [len(data[0]), len(data[1]), len(data[2]), len(data[3])]\n",
    "\n",
    "# frecuencia de muestreo (compu)\n",
    "fs = 48000\n",
    "Ts = 1/fs\n",
    "\n",
    "# portadoras de canales de imagen\n",
    "fmin=10000\n",
    "fmax=20000\n",
    "[fch1_0, fch2_0, fch3_0, fch1_1, fch2_1, fch3_1] = np.linspace(fmin, fmax, 6, dtype=int)\n",
    "vec_f = [fch1_0, fch2_0, fch3_0, fch1_1, fch2_1, fch3_1] \n",
    "\n",
    "# portadoras de canal de texto\n",
    "f0t = 3000\n",
    "f1t = 4000"
   ]
  },
  {
   "cell_type": "code",
   "execution_count": 9,
   "metadata": {},
   "outputs": [
    {
     "data": {
      "text/plain": [
       "[439, 285462, 233826, 203653]"
      ]
     },
     "execution_count": 9,
     "metadata": {},
     "output_type": "execute_result"
    }
   ],
   "source": [
    "largos #Para el receptor"
   ]
  },
  {
   "cell_type": "code",
   "execution_count": 10,
   "metadata": {},
   "outputs": [],
   "source": [
    "# periodos para cada simbolo\n",
    "Np = 6\n",
    "Nv = int(Np/(min(vec_f)*Ts))+1\n",
    "\n",
    "NpT = 300\n",
    "NvT = int(NpT/(f0t*Ts))+1"
   ]
  },
  {
   "cell_type": "markdown",
   "metadata": {},
   "source": [
    "# Señal sincronizante"
   ]
  },
  {
   "cell_type": "code",
   "execution_count": 11,
   "metadata": {},
   "outputs": [],
   "source": [
    "fsinc = [5000, 4000, 3000]\n",
    "t_sinc = np.arange(0, 3, Ts)\n",
    "sig_sinc = []\n",
    "for f in range(3):\n",
    "    sig_sinc[f*fs:(f+1)*fs] = np.cos(2*np.pi*fsinc[f]*t_sinc[f*fs:(f+1)*fs])\n",
    "sig_sinc = np.array(sig_sinc)"
   ]
  },
  {
   "cell_type": "markdown",
   "metadata": {},
   "source": [
    "# Señal de información"
   ]
  },
  {
   "cell_type": "code",
   "execution_count": 12,
   "metadata": {},
   "outputs": [],
   "source": [
    "N = max(largos)\n",
    "t_info = np.arange(0, N*Nv*Ts, Ts)\n",
    "\n",
    "sig_t = np.zeros(t_info.shape[0])\n",
    "sig_ch1 = np.zeros(t_info.shape[0])\n",
    "sig_ch2 = np.zeros(t_info.shape[0])\n",
    "sig_ch3 = np.zeros(t_info.shape[0])"
   ]
  },
  {
   "cell_type": "markdown",
   "metadata": {},
   "source": [
    "# Modulación"
   ]
  },
  {
   "cell_type": "code",
   "execution_count": 13,
   "metadata": {},
   "outputs": [],
   "source": [
    "def modulate(b, f0, f1, sig, i, Nv):\n",
    "    for j in range(Nv):\n",
    "        ti = Nv*i\n",
    "        k = ti+j\n",
    "        if b == 0:\n",
    "            sig[k] = np.cos(2*np.pi*f0*t_info[ti+j])\n",
    "        elif b == 1:\n",
    "            sig[k] = np.cos(2*np.pi*f1*t_info[ti+j])\n",
    "        else:\n",
    "            print('ni uno')"
   ]
  },
  {
   "cell_type": "code",
   "execution_count": 14,
   "metadata": {},
   "outputs": [],
   "source": [
    "for i in range(largos[0]):\n",
    "    b = data[0][i]\n",
    "    modulate(b, f0t, f1t, sig_t, i, NvT)"
   ]
  },
  {
   "cell_type": "code",
   "execution_count": 15,
   "metadata": {},
   "outputs": [],
   "source": [
    "for i in range(largos[1]):\n",
    "    b = data[1][i]\n",
    "    modulate(b, fch1_0, fch1_1, sig_ch1, i, Nv)"
   ]
  },
  {
   "cell_type": "code",
   "execution_count": 16,
   "metadata": {},
   "outputs": [],
   "source": [
    "for i in range(largos[2]):\n",
    "    b = data[2][i]\n",
    "    modulate(b, fch2_0, fch2_1, sig_ch2, i, Nv)"
   ]
  },
  {
   "cell_type": "code",
   "execution_count": 17,
   "metadata": {},
   "outputs": [],
   "source": [
    "for i in range(largos[3]):\n",
    "    b = data[3][i]\n",
    "    modulate(b, fch3_0, fch3_1, sig_ch3, i, Nv)"
   ]
  },
  {
   "cell_type": "markdown",
   "metadata": {},
   "source": [
    "# Unión señales y escritura .wav"
   ]
  },
  {
   "cell_type": "code",
   "execution_count": 18,
   "metadata": {},
   "outputs": [],
   "source": [
    "sig_data= sig_t+sig_ch1+sig_ch2+sig_ch3\n",
    "sig = np.append(sig_sinc, sig_data)\n",
    "sf.write('mod.wav', sig, fs)"
   ]
  }
 ],
 "metadata": {
  "kernelspec": {
   "display_name": "Python 3.9.12 64-bit",
   "language": "python",
   "name": "python3"
  },
  "language_info": {
   "codemirror_mode": {
    "name": "ipython",
    "version": 3
   },
   "file_extension": ".py",
   "mimetype": "text/x-python",
   "name": "python",
   "nbconvert_exporter": "python",
   "pygments_lexer": "ipython3",
   "version": "3.9.12"
  },
  "orig_nbformat": 4,
  "vscode": {
   "interpreter": {
    "hash": "bc5cc46825f7fb7ba141e99076f321de554a1eeb4fd9e315490f53961a3344f4"
   }
  }
 },
 "nbformat": 4,
 "nbformat_minor": 2
}
