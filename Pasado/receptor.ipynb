{
 "cells": [
  {
   "cell_type": "code",
   "execution_count": 14,
   "metadata": {},
   "outputs": [],
   "source": [
    "from heapq import heappop, heappush\n",
    "import numpy as np\n",
    "from numpy import cos, pi\n",
    "import scipy.signal\n",
    "import soundfile as sf\n",
    "import cv2\n",
    "import math\n",
    "import matplotlib.pyplot as plt\n",
    "import sounddevice as sd\n",
    "from scipy.io.wavfile import write, read\n",
    "from scipy.signal import correlate"
   ]
  },
  {
   "cell_type": "markdown",
   "metadata": {},
   "source": [
    "# Grabación"
   ]
  },
  {
   "cell_type": "code",
   "execution_count": 15,
   "metadata": {},
   "outputs": [],
   "source": [
    "fs = 48000\n",
    "\n",
    "seconds = 177 # Duración grabación\n",
    "#t = np.linspace(0,seconds,int(seconds*fs)) cambiarle el nombre"
   ]
  },
  {
   "cell_type": "code",
   "execution_count": 16,
   "metadata": {},
   "outputs": [],
   "source": [
    "#myrecording = sd.rec(int(seconds * fs), samplerate=fs, channels=1)\n",
    "#sd.wait()  # esperamos hasta que el audio es grabado"
   ]
  },
  {
   "cell_type": "code",
   "execution_count": 17,
   "metadata": {},
   "outputs": [],
   "source": [
    "#write('señalRecibida.wav', fs, myrecording)  # guardar como archivo WAV"
   ]
  },
  {
   "cell_type": "markdown",
   "metadata": {},
   "source": [
    "# Detección del sincronía"
   ]
  },
  {
   "cell_type": "code",
   "execution_count": 18,
   "metadata": {},
   "outputs": [],
   "source": [
    "t_win = 0.5 #[s]\n",
    "t_sol = 0.5 #[s]\n",
    "ns_win = int(t_win*fs)\n",
    "ns_sol = int(t_sol*fs)"
   ]
  },
  {
   "cell_type": "code",
   "execution_count": 19,
   "metadata": {},
   "outputs": [],
   "source": [
    "#audio = read(\"señalRecibida.wav\")\n",
    "audio = read(\"mod.wav\")\n",
    "data = audio[1]"
   ]
  },
  {
   "cell_type": "code",
   "execution_count": 20,
   "metadata": {},
   "outputs": [],
   "source": [
    "T=np.arange(0, len(data)/fs, t_sol)"
   ]
  },
  {
   "cell_type": "code",
   "execution_count": 21,
   "metadata": {},
   "outputs": [],
   "source": [
    "corr=[]\n",
    "for n_window in range(math.floor((len(data))/(ns_sol))):\n",
    "    inf = ns_sol*n_window\n",
    "    sup = inf+ns_win\n",
    "    y_w = data[inf:sup]\n",
    "    Ts = np.arange(0, len(y_w))\n",
    "    sig_ref=np.cos(2*np.pi*5000*Ts)\n",
    "    cor = correlate(sig_ref, y_w, mode='full', method='fft')\n",
    "    corr.append(sum(cor**2))"
   ]
  },
  {
   "cell_type": "markdown",
   "metadata": {},
   "source": [
    "# Demodulación"
   ]
  },
  {
   "cell_type": "code",
   "execution_count": 22,
   "metadata": {},
   "outputs": [],
   "source": [
    "# portadoras de canales de imagen\n",
    "fmin=10000\n",
    "fmax=20000\n",
    "[fch1_0, fch2_0, fch3_0, fch1_1, fch2_1, fch3_1] = np.linspace(fmin, fmax, 6, dtype=int)\n",
    "vec_f = [fch1_0, fch2_0, fch3_0, fch1_1, fch2_1, fch3_1] \n",
    "\n",
    "# portadoras de canal de texto\n",
    "f0t = 3000\n",
    "f1t = 4000"
   ]
  },
  {
   "cell_type": "code",
   "execution_count": 23,
   "metadata": {},
   "outputs": [],
   "source": [
    "# periodos para cada simbolo\n",
    "Np = 6\n",
    "Nv = int(Np/(min(vec_f)/fs))+1\n",
    "\n",
    "NpT = 300\n",
    "NvT = int(NpT/(f0t/fs))+1"
   ]
  },
  {
   "cell_type": "code",
   "execution_count": 24,
   "metadata": {},
   "outputs": [],
   "source": [
    "# Parámetros generados en emisor, necesarios para el receptor\n",
    "largos = [439, 285462, 233826, 203653]\n",
    "a = [150, 40, 35]\n",
    "ranges = [[10,251], [99, 167], [104, 188]]"
   ]
  },
  {
   "cell_type": "code",
   "execution_count": 25,
   "metadata": {},
   "outputs": [],
   "source": [
    "# Archivos generados en emisor, necesarios para el receptor\n",
    "path='C://Users//lesli//My Drive//La U//8vo semestre//EL4112 - Principios de Comunicación//Proyecto 2//'\n",
    "dic_cht = np.load(path+'dic_cht.npy', allow_pickle = True)\n",
    "dic_ch1 = np.load(path+'dic_ch1.npy', allow_pickle = True)\n",
    "dic_ch2 = np.load(path+'dic_ch2.npy', allow_pickle = True)\n",
    "dic_ch3 = np.load(path+'dic_ch3.npy', allow_pickle = True)\n",
    "data_cht = np.load(path+'data_cht.npy', allow_pickle = True)\n",
    "data_ch1 = np.load(path+'data_ch1.npy', allow_pickle = True)\n",
    "data_ch2 = np.load(path+'data_ch2.npy', allow_pickle = True)\n",
    "data_ch3 = np.load(path+'data_ch3.npy', allow_pickle = True)"
   ]
  },
  {
   "cell_type": "code",
   "execution_count": 26,
   "metadata": {},
   "outputs": [],
   "source": [
    "data_sinc = data[:3*fs]\n",
    "data_info = data[3*fs:]"
   ]
  },
  {
   "cell_type": "code",
   "execution_count": 27,
   "metadata": {},
   "outputs": [],
   "source": [
    "t = np.arange(0, len(data_info)/fs, 1/fs) #s"
   ]
  },
  {
   "cell_type": "code",
   "execution_count": 28,
   "metadata": {},
   "outputs": [],
   "source": [
    "CT = np.zeros((2, largos[0]))\n",
    "C_ch1 = np.zeros((2, largos[1]))\n",
    "C_ch2 = np.zeros((2, largos[2]))\n",
    "C_ch3 = np.zeros((2, largos[3]))\n",
    "\n",
    "#texto\n",
    "for i in range(largos[0]):\n",
    "    t_w = t[i*NvT:(i+1)*NvT]\n",
    "    data_w = data_info[i*NvT:(i+1)*NvT]\n",
    "    ref0 = np.cos(2*np.pi*f0t*t_w)\n",
    "    ref1 = np.cos(2*np.pi*f1t*t_w)\n",
    "    CT[0][i] = sum(scipy.signal.correlate(data_w, ref0, mode='same', method='fft')**2)\n",
    "    CT[1][i] = sum(scipy.signal.correlate(data_w, ref1, mode='same', method='fft')**2)"
   ]
  },
  {
   "cell_type": "code",
   "execution_count": 29,
   "metadata": {},
   "outputs": [],
   "source": [
    "#ch1\n",
    "for i in range(largos[1]):\n",
    "    t_w = t[i*Nv:(i+1)*Nv]\n",
    "    data_w = data_info[i*Nv:(i+1)*Nv]\n",
    "    ref0 = np.cos(2*np.pi*fch1_0*t_w)\n",
    "    ref1 = np.cos(2*np.pi*fch1_1*t_w)\n",
    "    C_ch1[0][i] = sum(scipy.signal.correlate(data_w, ref0, mode='same', method='fft')**2)\n",
    "    C_ch1[1][i] = sum(scipy.signal.correlate(data_w, ref1, mode='same', method='fft')**2)"
   ]
  },
  {
   "cell_type": "code",
   "execution_count": 30,
   "metadata": {},
   "outputs": [],
   "source": [
    "#ch2\n",
    "for i in range(largos[2]):\n",
    "    t_w = t[i*Nv:(i+1)*Nv]\n",
    "    data_w = data_info[i*Nv:(i+1)*Nv]\n",
    "    ref0 = np.cos(2*np.pi*fch2_0*t_w)\n",
    "    ref1 = np.cos(2*np.pi*fch2_1*t_w)\n",
    "    C_ch2[0][i] = sum(scipy.signal.correlate(data_w, ref0, mode='same', method='fft')**2)\n",
    "    C_ch2[1][i] = sum(scipy.signal.correlate(data_w, ref1, mode='same', method='fft')**2)"
   ]
  },
  {
   "cell_type": "code",
   "execution_count": 31,
   "metadata": {},
   "outputs": [],
   "source": [
    "#ch3\n",
    "for i in range(largos[3]):\n",
    "    t_w = t[i*Nv:(i+1)*Nv]\n",
    "    data_w = data_info[i*Nv:(i+1)*Nv]\n",
    "    ref0 = np.cos(2*np.pi*fch3_0*t_w)\n",
    "    ref1 = np.cos(2*np.pi*fch3_1*t_w)\n",
    "    C_ch3[0][i] = sum(scipy.signal.correlate(data_w, ref0, mode='same', method='fft')**2)\n",
    "    C_ch3[1][i] = sum(scipy.signal.correlate(data_w, ref1, mode='same', method='fft')**2)"
   ]
  },
  {
   "cell_type": "code",
   "execution_count": 32,
   "metadata": {},
   "outputs": [
    {
     "name": "stdout",
     "output_type": "stream",
     "text": [
      "Error: 208.0\n",
      "Error: 0.0\n",
      "Error: 0.0\n",
      "Error: 0.0\n"
     ]
    }
   ],
   "source": [
    "def demodular(largo, C0, C1, data_ch, sh_error = False):\n",
    "    demod = np.zeros(largo)\n",
    "    for i in range(largo):\n",
    "        if C0[i] > C1[i]:\n",
    "            demod[i] = 0\n",
    "        else:\n",
    "            demod[i] = 1\n",
    "    if sh_error:\n",
    "        error = demod-data_ch\n",
    "        error = sum(abs(error))\n",
    "        print('Error:', error)\n",
    "    return demod.astype(int)\n",
    "\n",
    "demod_cht = demodular(largos[0], CT[0], CT[1], data_cht, True)\n",
    "demod_ch1 = demodular(largos[1], C_ch1[0], C_ch1[1], data_ch1, True)\n",
    "demod_ch2 = demodular(largos[2], C_ch2[0], C_ch2[1], data_ch2, True)\n",
    "demod_ch3 = demodular(largos[3], C_ch3[0], C_ch3[1], data_ch3, True)"
   ]
  },
  {
   "cell_type": "markdown",
   "metadata": {},
   "source": [
    "# Decodificación"
   ]
  },
  {
   "cell_type": "code",
   "execution_count": 33,
   "metadata": {},
   "outputs": [],
   "source": [
    "# dado un valor obtiene su llave en un diccionario\n",
    "def obtenerLlave(valor,dic):\n",
    "    for llaves,valores in dic.items():\n",
    "        if valores==valor:\n",
    "            return llaves"
   ]
  },
  {
   "cell_type": "code",
   "execution_count": 34,
   "metadata": {},
   "outputs": [],
   "source": [
    "def decod_text(demod, dic):\n",
    "    decod=''\n",
    "    i=0\n",
    "    j=0\n",
    "    k=0    \n",
    "    while i<len(demod):\n",
    "        code_i=demod[j:i+1]\n",
    "        if list(code_i) in dic.values():\n",
    "            llave=obtenerLlave(list(code_i), dic)\n",
    "            decod+=llave\n",
    "            i+=1\n",
    "            j=i\n",
    "            k+=1\n",
    "        else:\n",
    "            i+=1\n",
    "    return decod"
   ]
  },
  {
   "cell_type": "code",
   "execution_count": 35,
   "metadata": {},
   "outputs": [],
   "source": [
    "def decod(demod, dic):\n",
    "    decod=np.zeros(225**2, dtype=int)\n",
    "    i=0\n",
    "    j=0\n",
    "    k=0    \n",
    "    while i<len(demod):\n",
    "        code_i=demod[j:i+1]\n",
    "        if list(code_i) in dic.values():\n",
    "            llave=obtenerLlave(list(code_i), dic)\n",
    "            decod[k]=llave\n",
    "            i+=1\n",
    "            j=i\n",
    "            k+=1\n",
    "        else:\n",
    "            i+=1\n",
    "    return decod"
   ]
  },
  {
   "cell_type": "code",
   "execution_count": 36,
   "metadata": {},
   "outputs": [],
   "source": [
    "def numpy_dic(dic):\n",
    "    dic_aux = []\n",
    "    for i in range(len(dic)):\n",
    "        dic_aux.append([dic[i][0], dic[i][1]])\n",
    "    return dict(dic_aux)"
   ]
  },
  {
   "cell_type": "code",
   "execution_count": 37,
   "metadata": {},
   "outputs": [],
   "source": [
    "# Reestructuración diccionario\n",
    "dic_cht=numpy_dic(dic_cht)\n",
    "dic_ch1=numpy_dic(dic_ch1)\n",
    "dic_ch2=numpy_dic(dic_ch2)\n",
    "dic_ch3=numpy_dic(dic_ch3)"
   ]
  },
  {
   "cell_type": "markdown",
   "metadata": {},
   "source": [
    "# Texto"
   ]
  },
  {
   "cell_type": "code",
   "execution_count": 38,
   "metadata": {},
   "outputs": [
    {
     "data": {
      "text/plain": [
       "'4tur1oñ22o0Nión clitustLaO2n doMl2danioe Sd 2n e1tptcpcc yg0,oouuoirca-aLPm!eoec2cFtsCerl'"
      ]
     },
     "execution_count": 38,
     "metadata": {},
     "output_type": "execute_result"
    }
   ],
   "source": [
    "decod_cht=decod_text(demod_cht, dic_cht)\n",
    "decod_cht"
   ]
  },
  {
   "cell_type": "markdown",
   "metadata": {},
   "source": [
    "# Imagen"
   ]
  },
  {
   "cell_type": "code",
   "execution_count": 39,
   "metadata": {},
   "outputs": [],
   "source": [
    "decod_ch1=decod(demod_ch1, dic_ch1).reshape(225, 225).astype('uint8')\n",
    "decod_ch2=decod(demod_ch2, dic_ch2).reshape(225, 225).astype('uint8')\n",
    "decod_ch3=decod(demod_ch3, dic_ch3).reshape(225, 225).astype('uint8')"
   ]
  },
  {
   "cell_type": "code",
   "execution_count": 40,
   "metadata": {},
   "outputs": [],
   "source": [
    "def contrastStre(ch, a, ranges):\n",
    "    new_ch = np.zeros(np.shape(ch), dtype=int)\n",
    "    min= ranges[0]\n",
    "    max = ranges[1]\n",
    "    for i in range(ch.shape[0]):\n",
    "        for j in range(ch.shape[1]):\n",
    "            new_ch[i,j] = int(ch[i,j]/a*(max-min)+min)\n",
    "\n",
    "    return new_ch.clip(0,255)"
   ]
  },
  {
   "cell_type": "code",
   "execution_count": 41,
   "metadata": {},
   "outputs": [],
   "source": [
    "new_decod_ch1 = contrastStre(decod_ch1, a[0], ranges[0])\n",
    "new_decod_ch2 = contrastStre(decod_ch2, a[1], ranges[1])\n",
    "new_decod_ch3 = contrastStre(decod_ch3, a[2], ranges[2])\n",
    "Im = cv2.merge([new_decod_ch1, new_decod_ch2, new_decod_ch3])"
   ]
  },
  {
   "cell_type": "code",
   "execution_count": 44,
   "metadata": {},
   "outputs": [],
   "source": [
    "cv2.imwrite('yuv_receptor.png', Im)\n",
    "\n",
    "img_yuv = cv2.imread('yuv_receptor.png')\n",
    "img_rgb = cv2.cvtColor(Im, cv2.COLOR_YUV2RGB)\n",
    "cv2.imshow('receptor', img_rgb)\n",
    "cv2.imwrite('rgb_receptor.png', img_rgb)\n",
    "cv2.waitKey(0) \n",
    "cv2.destroyAllWindows() "
   ]
  }
 ],
 "metadata": {
  "kernelspec": {
   "display_name": "Python 3.9.12 64-bit",
   "language": "python",
   "name": "python3"
  },
  "language_info": {
   "codemirror_mode": {
    "name": "ipython",
    "version": 3
   },
   "file_extension": ".py",
   "mimetype": "text/x-python",
   "name": "python",
   "nbconvert_exporter": "python",
   "pygments_lexer": "ipython3",
   "version": "3.9.12"
  },
  "orig_nbformat": 4,
  "vscode": {
   "interpreter": {
    "hash": "bc5cc46825f7fb7ba141e99076f321de554a1eeb4fd9e315490f53961a3344f4"
   }
  }
 },
 "nbformat": 4,
 "nbformat_minor": 2
}
